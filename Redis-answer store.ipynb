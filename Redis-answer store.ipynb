{
 "cells": [
  {
   "cell_type": "code",
   "execution_count": 1,
   "metadata": {},
   "outputs": [
    {
     "name": "stdout",
     "output_type": "stream",
     "text": [
      "Collecting redis\n",
      "  Downloading redis-5.2.0-py3-none-any.whl.metadata (9.1 kB)\n",
      "Requirement already satisfied: async-timeout>=4.0.3 in c:\\users\\tusharjain\\anaconda3\\envs\\autogen\\lib\\site-packages (from redis) (4.0.3)\n",
      "Downloading redis-5.2.0-py3-none-any.whl (261 kB)\n",
      "Installing collected packages: redis\n",
      "Successfully installed redis-5.2.0\n",
      "Note: you may need to restart the kernel to use updated packages.\n"
     ]
    }
   ],
   "source": [
    "pip install redis"
   ]
  },
  {
   "cell_type": "code",
   "execution_count": 21,
   "metadata": {},
   "outputs": [],
   "source": [
    "import redis\n",
    "\n",
    "r = redis.Redis(\n",
    "  host='redis-13187.c323.us-east-1-2.ec2.redns.redis-cloud.com',\n",
    "  port=13187,\n",
    "  password='kowtJQye8J07wVlQJZQ7mKa8lvq8ySrp')"
   ]
  },
  {
   "cell_type": "code",
   "execution_count": 18,
   "metadata": {},
   "outputs": [],
   "source": [
    "import uuid\n",
    "\n",
    "# Generate a random session ID\n",
    "session_id = str(uuid.uuid4())"
   ]
  },
  {
   "cell_type": "code",
   "execution_count": 8,
   "metadata": {},
   "outputs": [
    {
     "name": "stdout",
     "output_type": "stream",
     "text": [
      "Collecting tavily-python\n",
      "  Downloading tavily_python-0.5.0-py3-none-any.whl.metadata (11 kB)\n",
      "Requirement already satisfied: requests in c:\\users\\tusharjain\\anaconda3\\envs\\autogen\\lib\\site-packages (from tavily-python) (2.32.3)\n",
      "Requirement already satisfied: tiktoken>=0.5.1 in c:\\users\\tusharjain\\anaconda3\\envs\\autogen\\lib\\site-packages (from tavily-python) (0.8.0)\n",
      "Requirement already satisfied: httpx in c:\\users\\tusharjain\\anaconda3\\envs\\autogen\\lib\\site-packages (from tavily-python) (0.27.2)\n",
      "Requirement already satisfied: regex>=2022.1.18 in c:\\users\\tusharjain\\anaconda3\\envs\\autogen\\lib\\site-packages (from tiktoken>=0.5.1->tavily-python) (2024.11.6)\n",
      "Requirement already satisfied: charset-normalizer<4,>=2 in c:\\users\\tusharjain\\anaconda3\\envs\\autogen\\lib\\site-packages (from requests->tavily-python) (3.4.0)\n",
      "Requirement already satisfied: idna<4,>=2.5 in c:\\users\\tusharjain\\anaconda3\\envs\\autogen\\lib\\site-packages (from requests->tavily-python) (3.10)\n",
      "Requirement already satisfied: urllib3<3,>=1.21.1 in c:\\users\\tusharjain\\anaconda3\\envs\\autogen\\lib\\site-packages (from requests->tavily-python) (2.2.3)\n",
      "Requirement already satisfied: certifi>=2017.4.17 in c:\\users\\tusharjain\\anaconda3\\envs\\autogen\\lib\\site-packages (from requests->tavily-python) (2024.8.30)\n",
      "Requirement already satisfied: anyio in c:\\users\\tusharjain\\anaconda3\\envs\\autogen\\lib\\site-packages (from httpx->tavily-python) (4.6.2.post1)\n",
      "Requirement already satisfied: httpcore==1.* in c:\\users\\tusharjain\\anaconda3\\envs\\autogen\\lib\\site-packages (from httpx->tavily-python) (1.0.6)\n",
      "Requirement already satisfied: sniffio in c:\\users\\tusharjain\\anaconda3\\envs\\autogen\\lib\\site-packages (from httpx->tavily-python) (1.3.1)\n",
      "Requirement already satisfied: h11<0.15,>=0.13 in c:\\users\\tusharjain\\anaconda3\\envs\\autogen\\lib\\site-packages (from httpcore==1.*->httpx->tavily-python) (0.14.0)\n",
      "Requirement already satisfied: exceptiongroup>=1.0.2 in c:\\users\\tusharjain\\anaconda3\\envs\\autogen\\lib\\site-packages (from anyio->httpx->tavily-python) (1.2.2)\n",
      "Requirement already satisfied: typing-extensions>=4.1 in c:\\users\\tusharjain\\anaconda3\\envs\\autogen\\lib\\site-packages (from anyio->httpx->tavily-python) (4.12.2)\n",
      "Downloading tavily_python-0.5.0-py3-none-any.whl (14 kB)\n",
      "Installing collected packages: tavily-python\n",
      "Successfully installed tavily-python-0.5.0\n",
      "Note: you may need to restart the kernel to use updated packages.\n"
     ]
    }
   ],
   "source": [
    "pip install tavily-python\n"
   ]
  },
  {
   "cell_type": "code",
   "execution_count": 24,
   "metadata": {},
   "outputs": [
    {
     "name": "stdout",
     "output_type": "stream",
     "text": [
      "Connected to Redis Cloud successfully!\n"
     ]
    }
   ],
   "source": [
    "try:\n",
    "    r.ping()\n",
    "    print(\"Connected to Redis Cloud successfully!\")\n",
    "except Exception as e:\n",
    "    print(f\"Redis connection error: {e}\")"
   ]
  },
  {
   "cell_type": "code",
   "execution_count": 37,
   "metadata": {},
   "outputs": [],
   "source": [
    "import redis\n",
    "from tavily import TavilyClient\n",
    "\n",
    "# Initialize Redis and Tavily client\n",
    "r = redis.Redis(host='localhost', port=6379, db=0)\n",
    "TAVILY_API_KEY = \"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\"\n",
    "tavily_client = TavilyClient(api_key=TAVILY_API_KEY)\n",
    "\n",
    "def web_lookup_and_store(query, session_id, base_url):\n",
    "    try:\n",
    "        # Perform a web search using Tavily\n",
    "        search_result = tavily_client.search(query)\n",
    "\n",
    "        # Check if the response contains 'results'\n",
    "        if not search_result or 'results' not in search_result:\n",
    "            print(\"No results found or invalid response format.\")\n",
    "            return None\n",
    "\n",
    "        # Extract the first result\n",
    "        results = search_result['results']\n",
    "        if len(results) == 0:\n",
    "            print(\"No search results available.\")\n",
    "            return None\n",
    "\n",
    "        first_result = results[0]\n",
    "        url = first_result.get('url', 'Unknown URL')\n",
    "        content = first_result.get('content', '')\n",
    "\n",
    "        # Store the content and URL in Redis\n",
    "        key = f\"session:{session_id}\"\n",
    "        r.hset(key, \"response\", content)\n",
    "        r.hset(key, \"source_url\", url)\n",
    "\n",
    "        # Generate the \"View Details\" link using the provided base URL\n",
    "        view_details_url = f\"{base_url}details?session_id={session_id}\"\n",
    "\n",
    "        print(f\"Stored response in Redis with key: {key}\")\n",
    "        print(f\"Source URL: {url}\")\n",
    "        print(f\"View Details URL: {view_details_url}\")\n",
    "\n",
    "        return view_details_url\n",
    "\n",
    "    except Exception as e:\n",
    "        print(f\"Error during web lookup and storage: {str(e)}\")\n",
    "        return None\n"
   ]
  },
  {
   "cell_type": "code",
   "execution_count": 38,
   "metadata": {},
   "outputs": [],
   "source": [
    "@app.route(\"/search\", methods=[\"GET\"])\n",
    "def search():\n",
    "    query = request.args.get(\"query\")\n",
    "    session_id = request.args.get(\"session_id\")\n",
    "    base_url = request.host_url\n",
    "    view_details_url = web_lookup_and_store(query, session_id, base_url)\n",
    "    return {\"view_details_url\": view_details_url}, 200\n"
   ]
  },
  {
   "cell_type": "code",
   "execution_count": 39,
   "metadata": {},
   "outputs": [
    {
     "name": "stdout",
     "output_type": "stream",
     "text": [
      "Stored response in Redis with key: session:1234\n",
      "Source URL: https://www.technologyreview.com/2024/01/08/1085096/artificial-intelligence-generative-ai-chatgpt-open-ai-breakthrough-technologies\n",
      "View Details URL: http://127.0.0.1:5000/details?session_id=1234\n",
      "Generated View Details URL: http://127.0.0.1:5000/details?session_id=1234\n"
     ]
    }
   ],
   "source": [
    "if __name__ == \"__main__\":\n",
    "    session_id = \"1234\"\n",
    "    query = \"Latest updates on AI technology\"\n",
    "    base_url = \"http://127.0.0.1:5000/\"\n",
    "    view_details_url = web_lookup_and_store(query, session_id, base_url)\n",
    "    print(f\"Generated View Details URL: {view_details_url}\")\n"
   ]
  }
 ],
 "metadata": {
  "kernelspec": {
   "display_name": "autogen",
   "language": "python",
   "name": "python3"
  },
  "language_info": {
   "codemirror_mode": {
    "name": "ipython",
    "version": 3
   },
   "file_extension": ".py",
   "mimetype": "text/x-python",
   "name": "python",
   "nbconvert_exporter": "python",
   "pygments_lexer": "ipython3",
   "version": "3.10.15"
  }
 },
 "nbformat": 4,
 "nbformat_minor": 2
}
